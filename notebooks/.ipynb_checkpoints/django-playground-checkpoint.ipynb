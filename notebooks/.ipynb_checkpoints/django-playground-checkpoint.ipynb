{
 "cells": [
  {
   "cell_type": "code",
   "execution_count": 224,
   "metadata": {},
   "outputs": [
    {
     "data": {
      "text/plain": [
       "'/Users/shekhar/Documents/workspace/django-blog/django_project'"
      ]
     },
     "execution_count": 224,
     "metadata": {},
     "output_type": "execute_result"
    }
   ],
   "source": [
    "import os, sys\n",
    "import datetime\n",
    "PWD = os.getenv('PWD')\n",
    "PWD"
   ]
  },
  {
   "cell_type": "code",
   "execution_count": 225,
   "metadata": {},
   "outputs": [],
   "source": [
    "os.chdir(PWD)\n",
    "sys.path.insert(0, os.getenv('PWD'))"
   ]
  },
  {
   "cell_type": "code",
   "execution_count": 226,
   "metadata": {},
   "outputs": [
    {
     "data": {
      "text/plain": [
       "'django_project.settings'"
      ]
     },
     "execution_count": 226,
     "metadata": {},
     "output_type": "execute_result"
    }
   ],
   "source": [
    "os.environ.setdefault(\"DJANGO_SETTINGS_MODULE\", \"settings.py\")\n"
   ]
  },
  {
   "cell_type": "code",
   "execution_count": 227,
   "metadata": {},
   "outputs": [],
   "source": [
    "import django\n",
    "django.setup()"
   ]
  },
  {
   "cell_type": "code",
   "execution_count": 228,
   "metadata": {},
   "outputs": [],
   "source": [
    "from blog.models import Post, SurveyHistory\n"
   ]
  },
  {
   "cell_type": "code",
   "execution_count": 229,
   "metadata": {},
   "outputs": [],
   "source": [
    "def take_survey(posts):\n",
    "    user_habits_records = {}\n",
    "    for post in posts:\n",
    "        user_habits_records[post.id] = 1\n",
    "        \n",
    "    print(user_habits_records)"
   ]
  },
  {
   "cell_type": "code",
   "execution_count": null,
   "metadata": {},
   "outputs": [],
   "source": []
  },
  {
   "cell_type": "code",
   "execution_count": 279,
   "metadata": {},
   "outputs": [
    {
     "name": "stdout",
     "output_type": "stream",
     "text": [
      "current_month_range:  30\n",
      "{<Post: Go for running>: {datetime.date(2019, 9, 1): 1, datetime.date(2019, 9, 2): 1, datetime.date(2019, 9, 3): 1, datetime.date(2019, 9, 4): 1, datetime.date(2019, 9, 5): 1, datetime.date(2019, 9, 6): 1, datetime.date(2019, 9, 7): 1, datetime.date(2019, 9, 8): 1, datetime.date(2019, 9, 9): 1, datetime.date(2019, 9, 10): 1, datetime.date(2019, 9, 11): 1, datetime.date(2019, 9, 12): 1, datetime.date(2019, 9, 13): 1, datetime.date(2019, 9, 14): 1, datetime.date(2019, 9, 15): 1, datetime.date(2019, 9, 16): 1, datetime.date(2019, 9, 17): 1, datetime.date(2019, 9, 18): 1, datetime.date(2019, 9, 19): 1, datetime.date(2019, 9, 20): 1, datetime.date(2019, 9, 21): 1, datetime.date(2019, 9, 22): 1, datetime.date(2019, 9, 23): 1, datetime.date(2019, 9, 24): 1, datetime.date(2019, 9, 25): 1, datetime.date(2019, 9, 26): 0, datetime.date(2019, 9, 27): 0, datetime.date(2019, 9, 28): 1, datetime.date(2019, 9, 29): 1, datetime.date(2019, 9, 30): 1}, <Post: Take vitamins>: {datetime.date(2019, 9, 2): 1, datetime.date(2019, 9, 3): 1, datetime.date(2019, 9, 4): 1, datetime.date(2019, 9, 5): 1, datetime.date(2019, 9, 6): 1, datetime.date(2019, 9, 7): 1, datetime.date(2019, 9, 8): 1, datetime.date(2019, 9, 9): 1, datetime.date(2019, 9, 10): 1, datetime.date(2019, 9, 11): 1, datetime.date(2019, 9, 12): 1, datetime.date(2019, 9, 13): 1, datetime.date(2019, 9, 14): 1, datetime.date(2019, 9, 15): 1, datetime.date(2019, 9, 16): 1, datetime.date(2019, 9, 17): 1, datetime.date(2019, 9, 18): 1, datetime.date(2019, 9, 19): 1, datetime.date(2019, 9, 20): 1, datetime.date(2019, 9, 21): 1, datetime.date(2019, 9, 22): 1, datetime.date(2019, 9, 23): 1, datetime.date(2019, 9, 24): 1, datetime.date(2019, 9, 25): 1, datetime.date(2019, 9, 26): 1, datetime.date(2019, 9, 27): 1, datetime.date(2019, 9, 28): 1, datetime.date(2019, 9, 29): 1, datetime.date(2019, 9, 30): 1}, <Post: Vocal exercise>: {datetime.date(2019, 9, 2): 1, datetime.date(2019, 9, 3): 1, datetime.date(2019, 9, 4): 1, datetime.date(2019, 9, 5): 1, datetime.date(2019, 9, 6): 1, datetime.date(2019, 9, 7): 1, datetime.date(2019, 9, 8): 1, datetime.date(2019, 9, 9): 1, datetime.date(2019, 9, 10): 1, datetime.date(2019, 9, 11): 1, datetime.date(2019, 9, 12): 1, datetime.date(2019, 9, 13): 1, datetime.date(2019, 9, 14): 1, datetime.date(2019, 9, 15): 1, datetime.date(2019, 9, 16): 1, datetime.date(2019, 9, 17): 1, datetime.date(2019, 9, 18): 1, datetime.date(2019, 9, 19): 1, datetime.date(2019, 9, 20): 1, datetime.date(2019, 9, 21): 1, datetime.date(2019, 9, 22): 1, datetime.date(2019, 9, 23): 1, datetime.date(2019, 9, 24): 1, datetime.date(2019, 9, 25): 1, datetime.date(2019, 9, 26): 0, datetime.date(2019, 9, 27): 1, datetime.date(2019, 9, 28): 1, datetime.date(2019, 9, 29): 1, datetime.date(2019, 9, 30): 1}, <Post: Practice scales>: {datetime.date(2019, 9, 2): 1, datetime.date(2019, 9, 3): 1, datetime.date(2019, 9, 4): 1, datetime.date(2019, 9, 5): 1, datetime.date(2019, 9, 6): 1, datetime.date(2019, 9, 7): 1, datetime.date(2019, 9, 8): 1, datetime.date(2019, 9, 9): 1, datetime.date(2019, 9, 10): 1, datetime.date(2019, 9, 11): 1, datetime.date(2019, 9, 12): 1, datetime.date(2019, 9, 13): 1, datetime.date(2019, 9, 14): 1, datetime.date(2019, 9, 15): 1, datetime.date(2019, 9, 16): 1, datetime.date(2019, 9, 17): 1, datetime.date(2019, 9, 18): 1, datetime.date(2019, 9, 19): 1, datetime.date(2019, 9, 20): 1, datetime.date(2019, 9, 21): 1, datetime.date(2019, 9, 22): 1, datetime.date(2019, 9, 23): 1, datetime.date(2019, 9, 24): 1, datetime.date(2019, 9, 25): 1, datetime.date(2019, 9, 26): 1, datetime.date(2019, 9, 27): 0, datetime.date(2019, 9, 28): 1, datetime.date(2019, 9, 29): 1, datetime.date(2019, 9, 30): 1}}\n"
     ]
    }
   ],
   "source": [
    "from django.contrib.auth.models import User\n",
    "\n",
    "now = datetime.datetime.utcnow()\n",
    "current_month = now.month\n",
    "current_year  = now.year\n",
    "current_month_range = calendar.monthrange(current_year, current_month)[1]\n",
    "print(\"current_month_range: \", current_month_range)\n",
    "\n",
    "user = User.objects.filter(username = 'shekhar').first()\n",
    "posts_by_author = Post.objects.filter(author = user)\n",
    "\n",
    "current_month_range = [datetime.date(current_year, current_month, current_day) \n",
    "                       for current_day in range(1,current_month_range+1)]\n",
    "# print(current_month_range)\n",
    "\n",
    "result = {}\n",
    "for post in posts_by_author:\n",
    "    current_post_surveys = SurveyHistory.objects.filter(post = post)\n",
    "#     print(f\"{post} surveys: {current_post_surveys}\")\n",
    "    for current_date in current_month_range:\n",
    "        for survey in current_post_surveys:\n",
    "#             print(\"survey: \", survey)\n",
    "            survey_record_date = survey.recorded_date.date()\n",
    "    \n",
    "            if post.pk not in result:\n",
    "                result[post.pk] = {}\n",
    "            elif current_date == survey_record_date and survey.record:\n",
    "                result[post.pk][current_date] = 0\n",
    "            else:\n",
    "                if current_date not in result[post.pk]:\n",
    "                    result[post.pk][current_date] = 1\n",
    "    \n",
    "#     break\n",
    "#     print()\n",
    "\n",
    "\n",
    "\n",
    "print(result)\n",
    "context = {\n",
    "    'current_month': current_month,\n",
    "    'current_year': current_year,\n",
    "    'current_month_range': current_month_range,\n",
    "    'posts_by_author': posts_by_author,\n",
    "    'result': result\n",
    "}\n"
   ]
  },
  {
   "cell_type": "code",
   "execution_count": null,
   "metadata": {},
   "outputs": [],
   "source": []
  }
 ],
 "metadata": {
  "kernelspec": {
   "display_name": "Django Shell-Plus",
   "language": "python",
   "name": "django_extensions"
  },
  "language_info": {
   "codemirror_mode": {
    "name": "ipython",
    "version": 3
   },
   "file_extension": ".py",
   "mimetype": "text/x-python",
   "name": "python",
   "nbconvert_exporter": "python",
   "pygments_lexer": "ipython3",
   "version": "3.6.8"
  }
 },
 "nbformat": 4,
 "nbformat_minor": 2
}
