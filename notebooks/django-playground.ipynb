{
 "cells": [
  {
   "cell_type": "code",
   "execution_count": 224,
   "metadata": {},
   "outputs": [
    {
     "data": {
      "text/plain": [
       "'/Users/shekhar/Documents/workspace/django-blog/django_project'"
      ]
     },
     "execution_count": 224,
     "metadata": {},
     "output_type": "execute_result"
    }
   ],
   "source": [
    "import os, sys\n",
    "import datetime\n",
    "PWD = os.getenv('PWD')\n",
    "PWD"
   ]
  },
  {
   "cell_type": "code",
   "execution_count": 225,
   "metadata": {},
   "outputs": [],
   "source": [
    "os.chdir(PWD)\n",
    "sys.path.insert(0, os.getenv('PWD'))"
   ]
  },
  {
   "cell_type": "code",
   "execution_count": 226,
   "metadata": {},
   "outputs": [
    {
     "data": {
      "text/plain": [
       "'django_project.settings'"
      ]
     },
     "execution_count": 226,
     "metadata": {},
     "output_type": "execute_result"
    }
   ],
   "source": [
    "os.environ.setdefault(\"DJANGO_SETTINGS_MODULE\", \"settings.py\")\n"
   ]
  },
  {
   "cell_type": "code",
   "execution_count": 227,
   "metadata": {},
   "outputs": [],
   "source": [
    "import django\n",
    "django.setup()"
   ]
  },
  {
   "cell_type": "code",
   "execution_count": 228,
   "metadata": {},
   "outputs": [],
   "source": [
    "from blog.models import Post, SurveyHistory\n"
   ]
  },
  {
   "cell_type": "code",
   "execution_count": 229,
   "metadata": {},
   "outputs": [],
   "source": [
    "def take_survey(posts):\n",
    "    user_habits_records = {}\n",
    "    for post in posts:\n",
    "        user_habits_records[post.id] = 1\n",
    "        \n",
    "    print(user_habits_records)"
   ]
  },
  {
   "cell_type": "code",
   "execution_count": null,
   "metadata": {},
   "outputs": [],
   "source": []
  },
  {
   "cell_type": "code",
   "execution_count": 295,
   "metadata": {},
   "outputs": [
    {
     "name": "stdout",
     "output_type": "stream",
     "text": [
      "current_month_range:  30\n"
     ]
    }
   ],
   "source": [
    "from django.contrib.auth.models import User\n",
    "\n",
    "now = datetime.datetime.utcnow()\n",
    "current_month = now.month\n",
    "current_year  = now.year\n",
    "current_month_range = calendar.monthrange(current_year, current_month)[1]\n",
    "print(\"current_month_range: \", current_month_range)\n",
    "\n",
    "user = User.objects.filter(username = 'shekhar').first()\n",
    "posts_by_author = Post.objects.filter(author = user)\n",
    "\n",
    "current_month_range = [datetime.date(current_year, current_month, current_day) \n",
    "                       for current_day in range(1,current_month_range+1)]\n",
    "# print(current_month_range)\n",
    "\n",
    "result = {}\n",
    "for post in posts_by_author:\n",
    "    current_post_surveys = SurveyHistory.objects.filter(post = post)\n",
    "#     print(f\"{post} surveys: {current_post_surveys}\")\n",
    "    for current_date in current_month_range:\n",
    "        for survey in current_post_surveys:\n",
    "#             print(\"survey: \", survey)\n",
    "            survey_record_date = survey.recorded_date.date()\n",
    "    \n",
    "            if post.pk not in result:\n",
    "                result[post.pk] = {}\n",
    "                result[post.pk][current_date] = 0\n",
    "            elif current_date == survey_record_date and survey.record:\n",
    "                result[post.pk][current_date] = 1\n",
    "            else:\n",
    "                if current_date not in result[post.pk]:\n",
    "                    result[post.pk][current_date] = 0\n",
    "    \n",
    "#     break\n",
    "#     print()\n",
    "\n",
    "\n",
    "# for k, v in result.items():\n",
    "#     for i, j in v.items():\n",
    "#         print(i,j)\n",
    "#     print()"
   ]
  },
  {
   "cell_type": "code",
   "execution_count": 296,
   "metadata": {},
   "outputs": [
    {
     "data": {
      "text/plain": [
       "<QuerySet [<Post: Go for running>, <Post: Take vitamins>, <Post: Vocal exercise>, <Post: Practice scales>, <Post: Reading>]>"
      ]
     },
     "execution_count": 296,
     "metadata": {},
     "output_type": "execute_result"
    }
   ],
   "source": [
    "posts_by_author"
   ]
  },
  {
   "cell_type": "code",
   "execution_count": 299,
   "metadata": {},
   "outputs": [],
   "source": [
    "for post in posts_by_author:\n",
    "    SurveyHistory.objects.create(post=post, record=True)"
   ]
  },
  {
   "cell_type": "code",
   "execution_count": null,
   "metadata": {},
   "outputs": [],
   "source": [
    "# Scheduler kicks of the survey event\n",
    "# For each user\n",
    "#    For each post\n",
    "#        Create a survey questionaire\n",
    "\n",
    "# Send 1st questionaire\n",
    "# if response\n",
    "#     mark first post as completed\n",
    "#     send second post\n",
    "# else:\n",
    "#     send a reminder \n"
   ]
  },
  {
   "cell_type": "code",
   "execution_count": null,
   "metadata": {},
   "outputs": [],
   "source": [
    "\n",
    "\n",
    "def request_handler(request):\n",
    "    \"\"\"\n",
    "    input: {\n",
    "        'user_id': <user_id>, # 1\n",
    "        'payload': \"<intent_signature>\" # \"survey_intent_yes\" \"survey_intent_no\"\n",
    "    }\n",
    "    \n",
    "    output: {\n",
    "        'text': \"\",\n",
    "        'quick_replies' \"\",\n",
    "        'attachments': \"\"\n",
    "    }\n",
    "    \"\"\"\n",
    "    pass\n",
    "\n",
    "def send_reponse_to_user(message):\n",
    "    pass"
   ]
  }
 ],
 "metadata": {
  "kernelspec": {
   "display_name": "Django Shell-Plus",
   "language": "python",
   "name": "django_extensions"
  },
  "language_info": {
   "codemirror_mode": {
    "name": "ipython",
    "version": 3
   },
   "file_extension": ".py",
   "mimetype": "text/x-python",
   "name": "python",
   "nbconvert_exporter": "python",
   "pygments_lexer": "ipython3",
   "version": "3.6.8"
  }
 },
 "nbformat": 4,
 "nbformat_minor": 2
}
