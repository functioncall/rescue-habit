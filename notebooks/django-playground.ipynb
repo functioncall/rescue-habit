{
 "cells": [
  {
   "cell_type": "code",
   "execution_count": 43,
   "metadata": {},
   "outputs": [
    {
     "data": {
      "text/plain": [
       "'/Users/shekhar/Documents/workspace/django-blog/django_project'"
      ]
     },
     "execution_count": 43,
     "metadata": {},
     "output_type": "execute_result"
    }
   ],
   "source": [
    "import os, sys, json\n",
    "import datetime\n",
    "PWD = os.getenv('PWD')\n",
    "PWD"
   ]
  },
  {
   "cell_type": "code",
   "execution_count": 44,
   "metadata": {},
   "outputs": [],
   "source": [
    "os.chdir(PWD)\n",
    "sys.path.insert(0, os.getenv('PWD'))"
   ]
  },
  {
   "cell_type": "code",
   "execution_count": 45,
   "metadata": {},
   "outputs": [
    {
     "data": {
      "text/plain": [
       "'django_project.settings'"
      ]
     },
     "execution_count": 45,
     "metadata": {},
     "output_type": "execute_result"
    }
   ],
   "source": [
    "os.environ.setdefault(\"DJANGO_SETTINGS_MODULE\", \"settings.py\")\n"
   ]
  },
  {
   "cell_type": "code",
   "execution_count": 46,
   "metadata": {},
   "outputs": [],
   "source": [
    "import django\n",
    "django.setup()\n",
    "\n"
   ]
  },
  {
   "cell_type": "code",
   "execution_count": 49,
   "metadata": {},
   "outputs": [],
   "source": [
    "from django.contrib.auth.models import User\n",
    "from blog.models import Post"
   ]
  },
  {
   "cell_type": "code",
   "execution_count": 68,
   "metadata": {},
   "outputs": [],
   "source": [
    "survey_state = {}\n",
    "\n",
    "users = User.objects.all()\n",
    "\n",
    "# create survey_state for all users\n",
    "for user in users:\n",
    "    # get current user posts\n",
    "    posts = Post.objects.filter(author=user)\n",
    "    for post in posts:\n",
    "        if survey_state != {} and user.id in survey_state.keys():\n",
    "            survey_state[user.id][post.id] = 0\n",
    "        else:\n",
    "            survey_state[user.id] = {post.id: 0}\n",
    "\n",
    "# with open('/Users/shekhar/Documents/workspace/django-blog/django_project/survey_state.json', 'w') as f:\n",
    "#     json.dump(survey_state, f)"
   ]
  },
  {
   "cell_type": "code",
   "execution_count": 110,
   "metadata": {},
   "outputs": [],
   "source": [
    "survey_state[1][6] = 1"
   ]
  },
  {
   "cell_type": "code",
   "execution_count": 146,
   "metadata": {},
   "outputs": [
    {
     "name": "stdout",
     "output_type": "stream",
     "text": [
      "1 0\n",
      "shekhar\n",
      "7 0\n",
      "shekhar\n",
      "9 0\n",
      "shekhar\n",
      "6 1\n",
      "shekhar\n",
      "8 1\n",
      "shekhar\n"
     ]
    }
   ],
   "source": [
    "survey_state[1]\n",
    "import operator\n",
    "\n",
    "for post_id, is_marked in sorted(survey_state[1].items(), key=operator.itemgetter(1)):\n",
    "    print(post_id, is_marked)\n",
    "    print(Post.objects.filter(id=post_id).first())"
   ]
  },
  {
   "cell_type": "code",
   "execution_count": 143,
   "metadata": {},
   "outputs": [
    {
     "name": "stdout",
     "output_type": "stream",
     "text": [
      "{}\n"
     ]
    }
   ],
   "source": [
    "with open('/Users/shekhar/Documents/workspace/django-blog/django_project/survey_state.json', 'r') as f:\n",
    "    jf = json.load(f)\n",
    "print(jf)"
   ]
  },
  {
   "cell_type": "code",
   "execution_count": 171,
   "metadata": {},
   "outputs": [
    {
     "data": {
      "text/plain": [
       "False"
      ]
     },
     "execution_count": 171,
     "metadata": {},
     "output_type": "execute_result"
    }
   ],
   "source": [
    "def is_active():\n",
    "    \"\"\"\n",
    "    if active\n",
    "        store_survey_response\n",
    "        get_current_instance\n",
    "    else\n",
    "        create_survey\n",
    "        get_current_instance\n",
    "    :return:\n",
    "    \"\"\"\n",
    "    \n",
    "    survey_json_path = \"/Users/shekhar/Documents/workspace/django-blog/django_project/survey_state.json\"\n",
    "    if os.path.exists(survey_json_path):\n",
    "        with open(survey_json_path, 'r') as f:\n",
    "            if f.read() != \"{}\":\n",
    "                return True\n",
    "            else:\n",
    "                return False\n",
    "    else:\n",
    "        return False\n",
    "    \n",
    "is_active()\n"
   ]
  },
  {
   "cell_type": "code",
   "execution_count": 172,
   "metadata": {},
   "outputs": [],
   "source": [
    "p = Post.objects.all()"
   ]
  },
  {
   "cell_type": "code",
   "execution_count": 173,
   "metadata": {},
   "outputs": [
    {
     "data": {
      "text/plain": [
       "<QuerySet [<Post: Go for running>, <Post: Blog 2>, <Post: Notes>, <Post: Vocal exercise>, <Post: Practice scales>, <Post: Reading>, <Post: Side project>]>"
      ]
     },
     "execution_count": 173,
     "metadata": {},
     "output_type": "execute_result"
    }
   ],
   "source": [
    "p"
   ]
  },
  {
   "cell_type": "code",
   "execution_count": 179,
   "metadata": {},
   "outputs": [
    {
     "name": "stdout",
     "output_type": "stream",
     "text": [
      "1 Go for running\n",
      "2 Blog 2\n",
      "5 Notes\n",
      "6 Vocal exercise\n",
      "7 Practice scales\n",
      "8 Reading\n",
      "9 Side project\n"
     ]
    }
   ],
   "source": [
    "for post in p:\n",
    "    print(post.id, post)"
   ]
  },
  {
   "cell_type": "code",
   "execution_count": null,
   "metadata": {},
   "outputs": [],
   "source": []
  },
  {
   "cell_type": "code",
   "execution_count": null,
   "metadata": {},
   "outputs": [],
   "source": []
  },
  {
   "cell_type": "code",
   "execution_count": null,
   "metadata": {},
   "outputs": [],
   "source": []
  }
 ],
 "metadata": {
  "kernelspec": {
   "display_name": "Django Shell-Plus",
   "language": "python",
   "name": "django_extensions"
  },
  "language_info": {
   "codemirror_mode": {
    "name": "ipython",
    "version": 3
   },
   "file_extension": ".py",
   "mimetype": "text/x-python",
   "name": "python",
   "nbconvert_exporter": "python",
   "pygments_lexer": "ipython3",
   "version": "3.6.8"
  }
 },
 "nbformat": 4,
 "nbformat_minor": 2
}
